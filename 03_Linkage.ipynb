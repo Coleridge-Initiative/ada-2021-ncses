{
 "cells": [
  {
   "cell_type": "markdown",
   "metadata": {},
   "source": [
    "# Linkage Notebook\n",
    "\n",
    "Brian Kim, Maryah Garner, Rukhshan Mian, Ekaterina Levitskaya."
   ]
  },
  {
   "cell_type": "markdown",
   "metadata": {},
   "source": [
    "In this notebook we show quick helper code on how to join datasets available in the class."
   ]
  },
  {
   "cell_type": "markdown",
   "metadata": {},
   "source": [
    "# R Setup\n",
    "\n",
    "As always, start by importing the required libraries, as well as creating the connection to the database."
   ]
  },
  {
   "cell_type": "code",
   "execution_count": null,
   "metadata": {},
   "outputs": [],
   "source": [
    "# Switching off warnings\n",
    "options(warn = -1)\n",
    "\n",
    "# Database interaction imports\n",
    "suppressMessages(library(odbc))\n",
    "\n",
    "# for data manipulation/visualization\n",
    "suppressMessages(library(tidyverse))\n",
    "\n",
    "# scaling data, calculating percentages, overriding default graphing\n",
    "suppressMessages(library(scales))\n",
    "\n",
    "# add weights to data\n",
    "suppressMessages(library(survey))\n",
    "\n",
    "#Switching on warnings\n",
    "options(warn = 0)"
   ]
  },
  {
   "cell_type": "code",
   "execution_count": null,
   "metadata": {},
   "outputs": [],
   "source": [
    "# Connect to the database\n",
    "con <- DBI::dbConnect(odbc::odbc(),\n",
    "                     Driver = \"SQL Server\",\n",
    "                     Server = \"msssql01.c7bdq4o2yhxo.us-gov-west-1.rds.amazonaws.com\",\n",
    "                     Trusted_Connection = \"True\")"
   ]
  },
  {
   "cell_type": "markdown",
   "metadata": {},
   "source": [
    "![Diagram](images/Database_Diagram_2021_version.jpg)"
   ]
  },
  {
   "cell_type": "markdown",
   "metadata": {},
   "source": [
    "# Before we start"
   ]
  },
  {
   "cell_type": "markdown",
   "metadata": {},
   "source": [
    "When performing a join with multiple tables, remember:\n",
    "- **use LEFT JOIN** if you would like to keep everyone in your original table (cohort); \n",
    "- **use INNER JOIN** if you only want to keep individuals found in all joined tables;\n",
    "- **only pull in the columns of interest**, in order not to overload the memory (note that SED and SDR data sources have hundreds of columns). We will show examples with different select variables in this notebook, please feel free to substitute with your variables of interest."
   ]
  },
  {
   "cell_type": "markdown",
   "metadata": {},
   "source": [
    "# SED <> SED (Previous/Other Degrees)"
   ]
  },
  {
   "cell_type": "markdown",
   "metadata": {},
   "source": [
    "If you are interested in using SED variables related to previous or other degrees of doctoral students, these variables are included in the separate tables in the database:\n",
    "\n",
    "- Baccalaureate degree - `nsf_sed_bacc`\n",
    "- Master\\'s degree - `nsf_sed_mast`\n",
    "- Associate\\'s degree (only available for 2017 cohort) - `nsf_sed_assoc`\n",
    "- Professional doctoral degree (only available for 2017 cohort) - `nsf_sed_doct`"
   ]
  },
  {
   "cell_type": "markdown",
   "metadata": {},
   "source": [
    "Get the first baccalaureate field (**bafield**) for 2015 cohort"
   ]
  },
  {
   "cell_type": "code",
   "execution_count": null,
   "metadata": {},
   "outputs": [],
   "source": [
    "qry <- \" \n",
    "select sed.drf_id, bafield\n",
    "from ds_nsf_ncses.dbo.nsf_sed sed \n",
    "INNER JOIN ds_nsf_ncses.dbo.nsf_sed_bacc bacc\n",
    "on sed.drf_id = bacc.drf_id\n",
    "where sed.phdfy = '2015'\"\n",
    "\n",
    "cohort_2015_bacc_field <- dbGetQuery(con, qry)"
   ]
  },
  {
   "cell_type": "markdown",
   "metadata": {},
   "source": [
    "Get the most recent master's degree institution HBCU indicator (**mahbcu**) for 2015 cohort"
   ]
  },
  {
   "cell_type": "code",
   "execution_count": null,
   "metadata": {},
   "outputs": [],
   "source": [
    "qry <- \" \n",
    "select sed.drf_id, mahbcu\n",
    "from ds_nsf_ncses.dbo.nsf_sed sed \n",
    "INNER JOIN ds_nsf_ncses.dbo.nsf_sed_mast mast\n",
    "on sed.drf_id = mast.drf_id\n",
    "where sed.phdfy = '2015'\"\n",
    "\n",
    "cohort_2015_mast_hbcu <- dbGetQuery(con, qry)"
   ]
  },
  {
   "cell_type": "markdown",
   "metadata": {},
   "source": [
    "Get the first associate's degree year (**aayear**) - data available only for 2017 cohort"
   ]
  },
  {
   "cell_type": "code",
   "execution_count": null,
   "metadata": {},
   "outputs": [],
   "source": [
    "qry <- \" \n",
    "select sed.drf_id, aayear\n",
    "from ds_nsf_ncses.dbo.nsf_sed sed \n",
    "INNER JOIN ds_nsf_ncses.dbo.nsf_sed_assoc assoc\n",
    "on sed.drf_id = assoc.drf_id\n",
    "where sed.phdfy = '2017'\"\n",
    "\n",
    "cohort_2017_assoc_year <- dbGetQuery(con, qry)"
   ]
  },
  {
   "cell_type": "markdown",
   "metadata": {},
   "source": [
    "Get the professional doctorate institution (**profinst**) - data available only for 2017 cohort"
   ]
  },
  {
   "cell_type": "code",
   "execution_count": null,
   "metadata": {},
   "outputs": [],
   "source": [
    "qry <- \" \n",
    "select sed.drf_id, profinst\n",
    "from ds_nsf_ncses.dbo.nsf_sed sed \n",
    "INNER JOIN ds_nsf_ncses.dbo.nsf_sed_doct doct\n",
    "on sed.drf_id = doct.drf_id\n",
    "where sed.phdfy = '2017'\"\n",
    "\n",
    "cohort_2017_prof_inst <- dbGetQuery(con, qry)"
   ]
  },
  {
   "cell_type": "markdown",
   "metadata": {},
   "source": [
    "# SED <> SDR"
   ]
  },
  {
   "cell_type": "markdown",
   "metadata": {},
   "source": [
    "SDR contains information on the employment of doctoral recipients and can give insight into career pathways of doctoral students from SED."
   ]
  },
  {
   "cell_type": "markdown",
   "metadata": {},
   "source": [
    "It is possible to track individuals longitudinally, from their graduation in SED to their employment status in SDR 2015, in SDR 2017, and in SDR 2019 (if they remain eligible for the survey)."
   ]
  },
  {
   "cell_type": "markdown",
   "metadata": {},
   "source": [
    "Note that in order to check the sample size, we will use INNER JOIN in this query. SDR is a sample, not a census like SED, and it represents aournd 10% of SED population. Having missing individuals in SDR means that they were not included in that particular SDR cycle. For example, the SDR 2019 target population includes individuals that meet the following criteria:\n",
    "- Earned an SEH research doctorate degree from a U.S. academic institution prior to 1 July 2017\n",
    "- Are not institutionalized or terminally ill on 1 February 2019\n",
    "- Are less than 76 years of age as of 1 February 2019 "
   ]
  },
  {
   "cell_type": "markdown",
   "metadata": {},
   "source": [
    "In this query we show an example of joining multiple tables: SED 2013 cohort with SDR 2015, SDR 2017, and SDR 2019. We compare doctoral students' salary in different years of their employment (**salary** variable). "
   ]
  },
  {
   "cell_type": "markdown",
   "metadata": {},
   "source": [
    "Note that each of SDR tables have separate crosswalks. For example, in order to join SED 2013 cohort with SDR 2015, we first need to join with the SDR 2015 crosswalk (which contains only individual identifiers for SED and SDR, `sdr_drfid_2015` table), and then join with the actual SDR 2015 table (which contains all SDR variables, `nsf_sdr_2015` table). We then repeat the same code for SDR 2017 and SDR 2019."
   ]
  },
  {
   "cell_type": "code",
   "execution_count": null,
   "metadata": {},
   "outputs": [],
   "source": [
    "qry <- \"\n",
    "select sed.drf_id, sdr_2015.salary as salary_2015, sdr_2017.salary as salary_2017, sdr_2019.salary as salary_2019\n",
    "from ds_nsf_ncses.dbo.nsf_sed sed \n",
    "INNER JOIN ds_nsf_ncses.dbo.sdr_drfid_2015 sdr_2015_xwalk\n",
    "on sed.drf_id = sdr_2015_xwalk.drf_id\n",
    "INNER JOIN ds_nsf_ncses.dbo.nsf_sdr_2015 sdr_2015\n",
    "on sdr_2015_xwalk.refid = sdr_2015.refid\n",
    "INNER JOIN ds_nsf_ncses.dbo.sdr_drfid_2017 sdr_2017_xwalk\n",
    "on sed.drf_id = sdr_2017_xwalk.drf_id\n",
    "INNER JOIN ds_nsf_ncses.dbo.nsf_sdr_2017 sdr_2017\n",
    "on sdr_2017_xwalk.refid = sdr_2017.refid\n",
    "INNER JOIN ds_nsf_ncses.dbo.sdr_drfid_2019 sdr_2019_xwalk\n",
    "on sed.drf_id = sdr_2019_xwalk.drf_id\n",
    "INNER JOIN ds_nsf_ncses.dbo.sdr_2019 sdr_2019\n",
    "on sdr_2019_xwalk.refid = sdr_2019.refid\n",
    "where sed.phdfy = '2013'\n",
    "\"\n",
    "\n",
    "longitudinal_cohort_2013 <- dbGetQuery(con, qry)"
   ]
  },
  {
   "cell_type": "code",
   "execution_count": null,
   "metadata": {},
   "outputs": [],
   "source": [
    "# Check the sample size - the number of unique DRF IDs matched between all tables (SDR 2015, SDR 2017, and SDR 2019)\n",
    "length(unique(longitudinal_cohort_2013$drf_id))"
   ]
  },
  {
   "cell_type": "markdown",
   "metadata": {},
   "source": [
    "# SED <> UMETRICS Semester"
   ]
  },
  {
   "cell_type": "markdown",
   "metadata": {},
   "source": [
    "UMETRICS is an administrative dataset which contains award transaction data and which can give further insight into funding patterns of doctoral students."
   ]
  },
  {
   "cell_type": "markdown",
   "metadata": {},
   "source": [
    "If you would like to check the sample size after the join, use INNER JOIN:"
   ]
  },
  {
   "cell_type": "code",
   "execution_count": null,
   "metadata": {},
   "outputs": [],
   "source": [
    "qry <- \" \n",
    "select sed.drf_id, semester\n",
    "from ds_nsf_ncses.dbo.nsf_sed sed \n",
    "INNER JOIN tr_ncses_2021.dbo.umetrics_inst_xwalk inst_xwalk\n",
    "on sed.phdinst = inst_xwalk.phdinst\n",
    "INNER JOIN tr_ncses_2021.dbo.sed_umetrics_xwalk indiv_xwalk\n",
    "on indiv_xwalk.drf_id = sed.drf_id\n",
    "INNER JOIN ds_iris_umetrics.dbo.semester sem\n",
    "on sem.emp_number = indiv_xwalk.emp_number\n",
    "where sed.phdfy = '2015'\"\n",
    "\n",
    "sed_umetrics_inner_join <- dbGetQuery(con, qry)"
   ]
  },
  {
   "cell_type": "code",
   "execution_count": null,
   "metadata": {},
   "outputs": [],
   "source": [
    "# Check the number of individuals with the inner join\n",
    "# We only included individuals who have funding\n",
    "length(unique(sed_umetrics_inner_join$drf_id))"
   ]
  },
  {
   "cell_type": "markdown",
   "metadata": {},
   "source": [
    "If you would like to have a comparison group for your research project (e.g. individuals who did not receive funding), use LEFT JOIN - to keep all the individuals in the SED table from UMETRICS universities on the left. "
   ]
  },
  {
   "cell_type": "markdown",
   "metadata": {},
   "source": [
    "We will use an institutional crosswalk between UMETRICS institution id and SED institution id (`umetrics_inst_xwalk`), in order to get all SED individuals from UMETRICS institutions. We will then use the crosswalk with individuals (`sed_umetrics_xwalk`)."
   ]
  },
  {
   "cell_type": "code",
   "execution_count": null,
   "metadata": {},
   "outputs": [],
   "source": [
    "qry <- \" \n",
    "select sed.drf_id, semester\n",
    "from ds_nsf_ncses.dbo.nsf_sed sed \n",
    "INNER JOIN tr_ncses_2021.dbo.umetrics_inst_xwalk inst_xwalk\n",
    "on sed.phdinst = inst_xwalk.phdinst\n",
    "LEFT JOIN tr_ncses_2021.dbo.sed_umetrics_xwalk indiv_xwalk\n",
    "on indiv_xwalk.drf_id = sed.drf_id\n",
    "LEFT JOIN ds_iris_umetrics.dbo.semester sem\n",
    "on sem.emp_number = indiv_xwalk.emp_number\n",
    "where sed.phdfy = '2015'\"\n",
    "\n",
    "sed_umetrics_left_join <- dbGetQuery(con, qry)"
   ]
  },
  {
   "cell_type": "code",
   "execution_count": null,
   "metadata": {},
   "outputs": [],
   "source": [
    "# Check the number of individuals with the left join - this is everyone from 2015 cohort included in the SED\n",
    "length(unique(sed_umetrics_left_join$drf_id))"
   ]
  },
  {
   "cell_type": "code",
   "execution_count": null,
   "metadata": {},
   "outputs": [],
   "source": [
    "# Those who don't have funding will have NA in the semester variable\n",
    "sed_umetrics_left_join %>%\n",
    "    filter(is.na(semester)) %>% head"
   ]
  },
  {
   "cell_type": "markdown",
   "metadata": {},
   "source": [
    "# SED <> UMETRICS Employee"
   ]
  },
  {
   "cell_type": "markdown",
   "metadata": {},
   "source": [
    "If you link SED with the UMETRICS Employee table, you can find out whether a given employee was full-time (**fte_status**) or what was their occupation (**umetrics_occupational_class**)"
   ]
  },
  {
   "cell_type": "code",
   "execution_count": null,
   "metadata": {},
   "outputs": [],
   "source": [
    "# Get the occupation of employees\n",
    "qry <- \" \n",
    "select sed.drf_id, umetrics_occupational_class\n",
    "from ds_nsf_ncses.dbo.nsf_sed sed \n",
    "INNER JOIN tr_ncses_2021.dbo.umetrics_inst_xwalk inst_xwalk\n",
    "on sed.phdinst = inst_xwalk.phdinst\n",
    "LEFT JOIN tr_ncses_2021.dbo.sed_umetrics_xwalk indiv_xwalk\n",
    "on indiv_xwalk.drf_id = sed.drf_id\n",
    "LEFT JOIN ds_iris_umetrics.dbo.core_employee employee\n",
    "on employee.emp_number = indiv_xwalk.emp_number\n",
    "where sed.phdfy = '2015'\"\n",
    "\n",
    "sed_umetrics_employee_inner_join <- dbGetQuery(con, qry)"
   ]
  },
  {
   "cell_type": "markdown",
   "metadata": {},
   "source": [
    "# SED <> UMETRICS Employee <> UMETRICS Award"
   ]
  },
  {
   "cell_type": "markdown",
   "metadata": {},
   "source": [
    "If you link with the UMETRICS Award table, you will be able to bring in the variables related to awards, such as **award_title**. \n",
    "\n",
    "Note that the unit of observation in the UMETRICS Award table is grant, institution, and a specific transaction period (**period_start_date** and **period_end_date**)."
   ]
  },
  {
   "cell_type": "markdown",
   "metadata": {},
   "source": [
    "In this query we will show an example of getting an award title. We will use INNER JOIN to only get individuals who are found in the UMETRICS dataset."
   ]
  },
  {
   "cell_type": "code",
   "execution_count": null,
   "metadata": {},
   "outputs": [],
   "source": [
    "# Get the award title\n",
    "qry <- \" \n",
    "select sed.drf_id, award.period_start_date, award.period_end_date, award_title\n",
    "from ds_nsf_ncses.dbo.nsf_sed sed \n",
    "INNER JOIN tr_ncses_2021.dbo.umetrics_inst_xwalk inst_xwalk\n",
    "on sed.phdinst = inst_xwalk.phdinst\n",
    "INNER JOIN tr_ncses_2021.dbo.sed_umetrics_xwalk indiv_xwalk\n",
    "on indiv_xwalk.drf_id = sed.drf_id\n",
    "INNER JOIN ds_iris_umetrics.dbo.core_employee employee\n",
    "on employee.emp_number = indiv_xwalk.emp_number\n",
    "INNER JOIN ds_iris_umetrics.dbo.core_award award\n",
    "on award.unique_award_number = employee.unique_award_number and award.institution_id = employee.institution_id \n",
    "and award.cfda = employee.cfda and award.recipient_account_number = employee.recipient_account_number \n",
    "and award.period_start_date = employee.period_start_date and award.period_end_date = employee.period_end_date \n",
    "where sed.phdfy = '2015'\"\n",
    "\n",
    "sed_umetrics_employee_award_inner_join <- dbGetQuery(con, qry)"
   ]
  },
  {
   "cell_type": "code",
   "execution_count": null,
   "metadata": {},
   "outputs": [],
   "source": [
    "head(sed_umetrics_employee_award_inner_join)"
   ]
  },
  {
   "cell_type": "markdown",
   "metadata": {},
   "source": [
    "Note that there duplicate award title, as the unit of observation in the UMETRICS Award table is the transaction period. In this case, we are only interested in the unique award title per individual, and we can drop duplicates by the award title."
   ]
  },
  {
   "cell_type": "code",
   "execution_count": null,
   "metadata": {},
   "outputs": [],
   "source": [
    "# Remove columns with the transaction dates\n",
    "sed_umetrics_employee_award_inner_join <- sed_umetrics_employee_award_inner_join %>%\n",
    "                                            select(-c(period_start_date,period_end_date))"
   ]
  },
  {
   "cell_type": "code",
   "execution_count": null,
   "metadata": {},
   "outputs": [],
   "source": [
    "# Drop duplicates\n",
    "sed_umetrics_employee_award_inner_join <- sed_umetrics_employee_award_inner_join %>%\n",
    "                                                distinct()"
   ]
  },
  {
   "cell_type": "markdown",
   "metadata": {},
   "source": [
    "# UMETRICS Employee <> Federal RePORTER"
   ]
  },
  {
   "cell_type": "markdown",
   "metadata": {},
   "source": [
    "Federal RePORTER data provides an abstract for a grant. Note that we are using a LEFT JOIN from the UMETRICS Employee table, to get all matched individuals in the UMETRICS dataset, even if they didn't receive an NIH grant (those individuals will have missing values in the abstract)."
   ]
  },
  {
   "cell_type": "markdown",
   "metadata": {},
   "source": [
    "There are three tables with grant abstracts:\n",
    "<br />NIH grants - `umetrics_nih_table`\n",
    "<br />NSF grants - `umetrics_nsf_grants`\n",
    "<br />USDA grants - `umetrics_usda_grants`"
   ]
  },
  {
   "cell_type": "markdown",
   "metadata": {},
   "source": [
    "Example below is with NIH grants. "
   ]
  },
  {
   "cell_type": "code",
   "execution_count": null,
   "metadata": {},
   "outputs": [],
   "source": [
    "# Get the grant abstract\n",
    "qry <- \" \n",
    "select sed.drf_id, nih.abstract as nih_abstract\n",
    "from ds_nsf_ncses.dbo.nsf_sed sed \n",
    "INNER JOIN tr_ncses_2021.dbo.umetrics_inst_xwalk inst_xwalk\n",
    "on sed.phdinst = inst_xwalk.phdinst\n",
    "INNER JOIN tr_ncses_2021.dbo.sed_umetrics_xwalk indiv_xwalk\n",
    "on indiv_xwalk.drf_id = sed.drf_id\n",
    "INNER JOIN ds_iris_umetrics.dbo.core_employee employee\n",
    "on employee.emp_number = indiv_xwalk.emp_number\n",
    "LEFT JOIN ds_iris_umetrics.dbo.umetrics_nih_grants nih\n",
    "on employee.unique_award_number = nih.unique_award_number and employee.institution_id = nih.institution_id\n",
    "where sed.phdfy = '2015'\"\n",
    "\n",
    "sed_umetrics_employee_nih_abstract <- dbGetQuery(con, qry)"
   ]
  },
  {
   "cell_type": "code",
   "execution_count": null,
   "metadata": {},
   "outputs": [],
   "source": [
    "head(sed_umetrics_employee_nih_abstract, 1)"
   ]
  },
  {
   "cell_type": "markdown",
   "metadata": {},
   "source": [
    "# SED <> HERD"
   ]
  },
  {
   "cell_type": "markdown",
   "metadata": {},
   "source": [
    "HERD data provides institutional characteristics data, such as medical school flag (**med_sch_flag**) or total R&D expenditures (**total_rd**)"
   ]
  },
  {
   "cell_type": "markdown",
   "metadata": {},
   "source": [
    "Note that the unit of observation is year and institution - e.g. each institution has an entry per year between 2010 and 2017. \n",
    "\n",
    "In some cases there is a duplicate row, because the original **ipeds_inst_name** variable has two spelling versions of the institution."
   ]
  },
  {
   "cell_type": "code",
   "execution_count": null,
   "metadata": {},
   "outputs": [],
   "source": [
    "# Explore HERD based on one institution - 111966\n",
    "qry <- \" \n",
    "select *\n",
    "from ds_nsf_ncses.dbo.nsf_herd\n",
    "where ipeds_inst_id = '111966'\"\n",
    "\n",
    "herd <- dbGetQuery(con, qry)"
   ]
  },
  {
   "cell_type": "code",
   "execution_count": null,
   "metadata": {},
   "outputs": [],
   "source": [
    "# Note the difference in the institution name in the \"ipeds_inst_name\" column\n",
    "head(herd, 2)"
   ]
  },
  {
   "cell_type": "markdown",
   "metadata": {},
   "source": [
    "To link it to the individuals from SED, we would use both the institution variable (the **phdinst** variable in SED (IPEDS ID) and the **ipeds_inst_id** in HERD) and the year variable (**phdfy** in SED and **year** in HERD), and we also need to use distinct values, to de-duplicate rows (`select distinct`)."
   ]
  },
  {
   "cell_type": "code",
   "execution_count": null,
   "metadata": {},
   "outputs": [],
   "source": [
    "qry <- \" \n",
    "select distinct drf_id, phdinst, med_sch_flag\n",
    "from ds_nsf_ncses.dbo.nsf_sed sed\n",
    "INNER JOIN ds_nsf_ncses.dbo.nsf_herd herd\n",
    "on sed.phdinst = herd.ipeds_inst_id and sed.phdfy = herd.year\n",
    "where phdfy = '2015'\"\n",
    "\n",
    "sed_herd <- dbGetQuery(con, qry)"
   ]
  },
  {
   "cell_type": "code",
   "execution_count": null,
   "metadata": {},
   "outputs": [],
   "source": [
    "head(sed_herd)"
   ]
  },
  {
   "cell_type": "markdown",
   "metadata": {},
   "source": [
    "# SED <> IPEDS"
   ]
  },
  {
   "cell_type": "markdown",
   "metadata": {},
   "source": [
    "In this example, we show how to pull institutional name and location (state) using IPEDS data. For the list of IPEDS variables available in the class, please refer to the IPEDS data dictionary."
   ]
  },
  {
   "cell_type": "markdown",
   "metadata": {},
   "source": [
    "The unit of observation in IPEDS data is institution. We will link on **phdinst** variable in SED (IPEDS ID) and **unitid** variable in IPEDS."
   ]
  },
  {
   "cell_type": "code",
   "execution_count": null,
   "metadata": {},
   "outputs": [],
   "source": [
    "qry <- \" \n",
    "select distinct drf_id, phdinst, instnm, stabbr\n",
    "from ds_nsf_ncses.dbo.nsf_sed sed \n",
    "INNER JOIN tr_ncses_2021.dbo.ipeds ipeds\n",
    "on sed.phdinst = ipeds.unitid\n",
    "where sed.phdfy = '2015'\"\n",
    "\n",
    "sed_ipeds <- dbGetQuery(con, qry)"
   ]
  },
  {
   "cell_type": "code",
   "execution_count": null,
   "metadata": {},
   "outputs": [],
   "source": [
    "head(sed_ipeds)"
   ]
  },
  {
   "cell_type": "code",
   "execution_count": null,
   "metadata": {},
   "outputs": [],
   "source": []
  }
 ],
 "metadata": {
  "kernelspec": {
   "display_name": "R",
   "language": "R",
   "name": "ir"
  },
  "language_info": {
   "codemirror_mode": "r",
   "file_extension": ".r",
   "mimetype": "text/x-r-source",
   "name": "R",
   "pygments_lexer": "r",
   "version": "4.0.3"
  }
 },
 "nbformat": 4,
 "nbformat_minor": 4
}
